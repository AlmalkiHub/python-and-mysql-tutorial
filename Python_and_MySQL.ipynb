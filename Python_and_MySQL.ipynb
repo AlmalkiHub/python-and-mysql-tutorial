{
  "cells": [
    {
      "cell_type": "markdown",
      "id": "617d6bfd",
      "metadata": {
        "id": "617d6bfd"
      },
      "source": [
        "### `Ali Almalki`\n",
        "\n",
        "This tutorial is about accessing database server and executing SQL statements in python."
      ]
    },
    {
      "cell_type": "code",
      "execution_count": null,
      "id": "59b200b8",
      "metadata": {
        "id": "59b200b8"
      },
      "outputs": [],
      "source": [
        "# Import all required libraries \n",
        "import numpy as np \n",
        "import pandas as pd \n",
        "import matplotlib.pyplot as plt \n",
        "import sklearn\n",
        "import mysql.connector"
      ]
    },
    {
      "cell_type": "markdown",
      "id": "4cba59cf",
      "metadata": {
        "id": "4cba59cf"
      },
      "source": [
        "### Connect to the database server"
      ]
    },
    {
      "cell_type": "code",
      "execution_count": null,
      "id": "36a574f9",
      "metadata": {
        "id": "36a574f9",
        "outputId": "1a163d26-d527-45e7-e380-a2bca44c24ca"
      },
      "outputs": [
        {
          "name": "stdout",
          "output_type": "stream",
          "text": [
            "<mysql.connector.connection.MySQLConnection object at 0x7fdd6a8b5510>\n"
          ]
        }
      ],
      "source": [
        "mydb = mysql.connector.connect(\n",
        "host=\"127.0.0.1\",\n",
        "port=3306,\n",
        "user=\"root\",\n",
        "password=\"########\") # Put your own password!\n",
        "\n",
        "print(mydb)"
      ]
    },
    {
      "cell_type": "code",
      "execution_count": null,
      "id": "9c0333c6",
      "metadata": {
        "id": "9c0333c6",
        "outputId": "f7c82bd1-df45-490e-9e83-37a234d94d74"
      },
      "outputs": [
        {
          "name": "stdout",
          "output_type": "stream",
          "text": [
            "MySQLCursor: (Nothing executed yet)\n"
          ]
        }
      ],
      "source": [
        "# Create a cursor object to communicate with my local SQL server\n",
        "mycursor = mydb.cursor()\n",
        "print(mycursor)"
      ]
    },
    {
      "cell_type": "markdown",
      "id": "48914cfc",
      "metadata": {
        "id": "48914cfc"
      },
      "source": [
        "### Execute SQL statements "
      ]
    },
    {
      "cell_type": "code",
      "execution_count": null,
      "id": "9f70808f",
      "metadata": {
        "id": "9f70808f",
        "outputId": "2c3d9c8a-9404-4d39-d6e2-5b4f7217b5c0"
      },
      "outputs": [
        {
          "name": "stdout",
          "output_type": "stream",
          "text": [
            "('information_schema',)\n",
            "('mysql',)\n",
            "('performance_schema',)\n",
            "('sql_hr',)\n",
            "('sql_inventory',)\n",
            "('sql_invoicing',)\n",
            "('sql_store',)\n",
            "('sys',)\n",
            "('testdb',)\n"
          ]
        }
      ],
      "source": [
        "# Show all databases in my local SQL server \n",
        "mycursor.execute(\"SHOW DATABASES\")\n",
        "\n",
        "# Print all databases \n",
        "for db in mycursor:\n",
        "    print(db)"
      ]
    },
    {
      "cell_type": "code",
      "execution_count": null,
      "id": "d0078f92",
      "metadata": {
        "id": "d0078f92"
      },
      "outputs": [],
      "source": [
        "# Drop a database\n",
        "mycursor.execute(\"DROP DATABASE testdb\")"
      ]
    },
    {
      "cell_type": "code",
      "execution_count": null,
      "id": "1b0ab684",
      "metadata": {
        "id": "1b0ab684"
      },
      "outputs": [],
      "source": [
        "# Create a database \n",
        "mycursor.execute(\"CREATE DATABASE testdb\")"
      ]
    },
    {
      "cell_type": "code",
      "execution_count": null,
      "id": "8e1c75fd",
      "metadata": {
        "id": "8e1c75fd",
        "outputId": "4817a566-361e-4ed6-cd48-74da7fd287ed"
      },
      "outputs": [
        {
          "name": "stdout",
          "output_type": "stream",
          "text": [
            "('information_schema',)\n",
            "('mysql',)\n",
            "('performance_schema',)\n",
            "('sql_hr',)\n",
            "('sql_inventory',)\n",
            "('sql_invoicing',)\n",
            "('sql_store',)\n",
            "('sys',)\n",
            "('testdb',)\n"
          ]
        }
      ],
      "source": [
        "# Check databases again \n",
        "mycursor.execute(\"SHOW DATABASES\")\n",
        "\n",
        "# Print all databases \n",
        "for db in mycursor:\n",
        "    print(db)"
      ]
    },
    {
      "cell_type": "markdown",
      "id": "55cf847d",
      "metadata": {
        "id": "55cf847d"
      },
      "source": [
        "### We can see that `testdb` database has been created. Wonderful!"
      ]
    },
    {
      "cell_type": "markdown",
      "id": "9f747925",
      "metadata": {
        "id": "9f747925"
      },
      "source": [
        "### Create a table"
      ]
    },
    {
      "cell_type": "code",
      "execution_count": null,
      "id": "d2f5ab1f",
      "metadata": {
        "id": "d2f5ab1f"
      },
      "outputs": [],
      "source": [
        "# Create a table inside testdb database \n",
        "mycursor.execute(\"USE testdb\") # USE database_name\n",
        "mycursor.execute(\"CREATE TABLE students(name VARCHAR(255), age INTEGER(10))\")\n"
      ]
    },
    {
      "cell_type": "code",
      "execution_count": null,
      "id": "d10e27a2",
      "metadata": {
        "id": "d10e27a2",
        "outputId": "c22802cc-60ab-4d8c-c166-b89dcfc68d30"
      },
      "outputs": [
        {
          "name": "stdout",
          "output_type": "stream",
          "text": [
            "('students',)\n"
          ]
        }
      ],
      "source": [
        "# Check that the students table has been created inside testdb database\n",
        "mycursor.execute(\"SHOW TABLES\")\n",
        "\n",
        "# Print existing tables\n",
        "for tb in mycursor:\n",
        "    print(tb)"
      ]
    },
    {
      "cell_type": "markdown",
      "id": "2805882d",
      "metadata": {
        "id": "2805882d"
      },
      "source": [
        "### Populate students table inside testdb Database "
      ]
    },
    {
      "cell_type": "code",
      "execution_count": null,
      "id": "6fbf554c",
      "metadata": {
        "id": "6fbf554c"
      },
      "outputs": [],
      "source": [
        "sqlFormula = \"INSERT INTO students (name, age) VALUES (%s, %s)\""
      ]
    },
    {
      "cell_type": "code",
      "execution_count": null,
      "id": "ff0dc8ed",
      "metadata": {
        "id": "ff0dc8ed"
      },
      "outputs": [],
      "source": [
        "student1 = (\"Ali\", 27)\n",
        "mycursor.execute(sqlFormula, student1)\n",
        "\n",
        "#commit\n",
        "mydb.commit()"
      ]
    },
    {
      "cell_type": "code",
      "execution_count": null,
      "id": "cb957c01",
      "metadata": {
        "id": "cb957c01"
      },
      "outputs": [],
      "source": [
        "student2 = (\"Khalid\", 25)\n",
        "mycursor.execute(sqlFormula, student2)\n",
        "\n",
        "#commit\n",
        "mydb.commit()\n",
        "\n",
        "student3 = (\"Ahmad\", 24)\n",
        "mycursor.execute(sqlFormula, student3)\n",
        "\n",
        "#commit\n",
        "mydb.commit()"
      ]
    },
    {
      "cell_type": "code",
      "execution_count": null,
      "id": "cc07013a",
      "metadata": {
        "id": "cc07013a"
      },
      "outputs": [],
      "source": [
        "# Use executemany() function\n",
        "students = [(\"Fahad\", 32),\n",
        "           (\"Sultan\", 22),\n",
        "           (\"Naif\", 19),\n",
        "           (\"Badar\", 29),\n",
        "           (\"majed\", 23)]\n",
        "mycursor.executemany(sqlFormula, students)\n",
        "\n",
        "#commit\n",
        "mydb.commit()"
      ]
    },
    {
      "cell_type": "markdown",
      "id": "53cd5b9c",
      "metadata": {
        "id": "53cd5b9c"
      },
      "source": [
        "### Selecting and Getting Data\n"
      ]
    },
    {
      "cell_type": "code",
      "execution_count": null,
      "id": "941a49e8",
      "metadata": {
        "id": "941a49e8",
        "outputId": "fcd77e77-ab1b-4ee9-e743-ede7354b9227"
      },
      "outputs": [
        {
          "name": "stdout",
          "output_type": "stream",
          "text": [
            "('Ali', 27)\n",
            "('Khalid', 25)\n",
            "('Ahmad', 24)\n",
            "('Fahad', 32)\n",
            "('Sultan', 22)\n",
            "('Naif', 19)\n",
            "('Badar', 29)\n",
            "('majed', 23)\n"
          ]
        }
      ],
      "source": [
        "mycursor.execute(\"USE testdb\")\n",
        "mycursor.execute(\"SELECT * FROM students\")\n",
        "myresult = mycursor.fetchall()\n",
        "\n",
        "# Print results \n",
        "for row in myresult:\n",
        "    print(row)"
      ]
    },
    {
      "cell_type": "markdown",
      "id": "83faf16e",
      "metadata": {
        "id": "83faf16e"
      },
      "source": [
        "### WHERE and Wildcards "
      ]
    },
    {
      "cell_type": "code",
      "execution_count": null,
      "id": "3b801e3b",
      "metadata": {
        "id": "3b801e3b",
        "outputId": "edb3a0dc-4cd7-4c09-da46-4fe26b038de7"
      },
      "outputs": [
        {
          "name": "stdout",
          "output_type": "stream",
          "text": [
            "('Ali', 27)\n"
          ]
        }
      ],
      "source": [
        "sql = \"SELECT * FROM students WHERE age=27\"\n",
        "mycursor.execute(sql)\n",
        "myresult = mycursor.fetchall()\n",
        "\n",
        "# Print \n",
        "for row in myresult:\n",
        "    print(row)"
      ]
    }
  ],
  "metadata": {
    "kernelspec": {
      "display_name": "Python 3 (ipykernel)",
      "language": "python",
      "name": "python3"
    },
    "language_info": {
      "codemirror_mode": {
        "name": "ipython",
        "version": 3
      },
      "file_extension": ".py",
      "mimetype": "text/x-python",
      "name": "python",
      "nbconvert_exporter": "python",
      "pygments_lexer": "ipython3",
      "version": "3.10.4"
    },
    "colab": {
      "provenance": []
    }
  },
  "nbformat": 4,
  "nbformat_minor": 5
}